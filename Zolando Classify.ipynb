{
 "cells": [
  {
   "cell_type": "code",
   "execution_count": 1,
   "metadata": {},
   "outputs": [],
   "source": [
    "# Import the necessary libraries\n",
    "import numpy as np\n",
    "import torch\n",
    "import matplotlib.pyplot as plt\n",
    "from torch import nn, optim\n",
    "import torch.nn.functional as F"
   ]
  },
  {
   "cell_type": "code",
   "execution_count": 2,
   "metadata": {},
   "outputs": [],
   "source": [
    "# Loading the Fashion-MNIST dataset\n",
    "from torchvision import datasets, transforms\n",
    "\n",
    "# Define a transform to normalize the data\n",
    "transform = transforms.Compose([transforms.ToTensor(),\n",
    "                                transforms.Normalize((0.5,), (0.5,))])\n",
    "\n",
    "# Download and load the training data\n",
    "trainset = datasets.FashionMNIST('~/.pytorch/F_MNIST_data/', download=True, train=True, transform=transform)\n",
    "trainloader = torch.utils.data.DataLoader(trainset, batch_size=64, shuffle=True)\n",
    "\n",
    "# Download and load the test data\n",
    "testset = datasets.FashionMNIST('~/.pytorch/F_MNIST_data/', download=True, train=False, transform=transform)\n",
    "testloader = torch.utils.data.DataLoader(testset, batch_size=64, shuffle=True)"
   ]
  },
  {
   "cell_type": "code",
   "execution_count": 3,
   "metadata": {},
   "outputs": [],
   "source": [
    "dataiter = iter(trainloader)\n",
    "images, labels = dataiter.next()"
   ]
  },
  {
   "cell_type": "code",
   "execution_count": 4,
   "metadata": {},
   "outputs": [
    {
     "name": "stdout",
     "output_type": "stream",
     "text": [
      "Epoch: 1 | trainloss: 0.646574138197055 | test loss: 0.46784505248069763 | accuracy : 0.8301154375076294\n",
      "Epoch: 2 | trainloss: 0.5142976203039765 | test loss: 0.4312758147716522 | accuracy : 0.8400676846504211\n",
      "Epoch: 3 | trainloss: 0.4826776952282198 | test loss: 0.4132654070854187 | accuracy : 0.8481289744377136\n",
      "Epoch: 4 | trainloss: 0.4533648858192379 | test loss: 0.4051879048347473 | accuracy : 0.8514131903648376\n",
      "Epoch: 5 | trainloss: 0.4450724023555133 | test loss: 0.4087427854537964 | accuracy : 0.8490246534347534\n",
      "Epoch: 6 | trainloss: 0.43473111433006806 | test loss: 0.391765832901001 | accuracy : 0.8587778806686401\n",
      "Epoch: 7 | trainloss: 0.43150033172704516 | test loss: 0.39319148659706116 | accuracy : 0.8548964858055115\n",
      "Epoch: 8 | trainloss: 0.41663109919409763 | test loss: 0.37877199053764343 | accuracy : 0.859574019908905\n",
      "Epoch: 9 | trainloss: 0.41165156362216865 | test loss: 0.4121748208999634 | accuracy : 0.8531050682067871\n",
      "Epoch: 10 | trainloss: 0.4140663242765835 | test loss: 0.3756352663040161 | accuracy : 0.8628582954406738\n",
      "Epoch: 11 | trainloss: 0.4045805991299625 | test loss: 0.3741632401943207 | accuracy : 0.8643510937690735\n",
      "Epoch: 12 | trainloss: 0.400165597179424 | test loss: 0.37294119596481323 | accuracy : 0.8638535141944885\n",
      "Epoch: 13 | trainloss: 0.3952420424344316 | test loss: 0.3775595426559448 | accuracy : 0.8609673380851746\n",
      "Epoch: 14 | trainloss: 0.39515113274552927 | test loss: 0.36203935742378235 | accuracy : 0.8691281676292419\n",
      "Epoch: 15 | trainloss: 0.3891876572723201 | test loss: 0.37033072113990784 | accuracy : 0.8681329488754272\n",
      "Epoch: 16 | trainloss: 0.3899205788525183 | test loss: 0.37970423698425293 | accuracy : 0.8643510937690735\n",
      "Epoch: 17 | trainloss: 0.38993265676790717 | test loss: 0.3605670630931854 | accuracy : 0.8661425113677979\n",
      "Epoch: 18 | trainloss: 0.3812427213514792 | test loss: 0.3582025468349457 | accuracy : 0.8741043210029602\n",
      "Epoch: 19 | trainloss: 0.37863739602950847 | test loss: 0.3629074692726135 | accuracy : 0.8704219460487366\n",
      "Epoch: 20 | trainloss: 0.3718105410096615 | test loss: 0.3714079260826111 | accuracy : 0.8682324886322021\n",
      "Epoch: 21 | trainloss: 0.3750880360047319 | test loss: 0.3651569187641144 | accuracy : 0.8712181448936462\n",
      "Epoch: 22 | trainloss: 0.3788199675744022 | test loss: 0.36393457651138306 | accuracy : 0.8744028806686401\n",
      "Epoch: 23 | trainloss: 0.37035562334729155 | test loss: 0.35543227195739746 | accuracy : 0.8755971193313599\n",
      "Epoch: 24 | trainloss: 0.3673241564920589 | test loss: 0.36034154891967773 | accuracy : 0.8695262670516968\n",
      "Epoch: 25 | trainloss: 0.3688967143262881 | test loss: 0.3895716071128845 | accuracy : 0.8641520738601685\n",
      "Epoch: 26 | trainloss: 0.3665106391538181 | test loss: 0.37055304646492004 | accuracy : 0.8726114630699158\n",
      "Epoch: 27 | trainloss: 0.36524425047451753 | test loss: 0.3557709753513336 | accuracy : 0.8741043210029602\n",
      "Epoch: 28 | trainloss: 0.3577258171382616 | test loss: 0.3688667118549347 | accuracy : 0.8705214858055115\n",
      "Epoch: 29 | trainloss: 0.3566957877150604 | test loss: 0.35944122076034546 | accuracy : 0.8732085824012756\n",
      "Epoch: 30 | trainloss: 0.3574321239646564 | test loss: 0.35550591349601746 | accuracy : 0.8764928579330444\n"
     ]
    }
   ],
   "source": [
    "# Define the network architecture\n",
    "\n",
    "model = nn.Sequential(nn.Linear(784, 256),\n",
    "                      nn.ReLU(),\n",
    "                     \n",
    "                      nn.Dropout(0.4),\n",
    "                      nn.Linear(256, 128),\n",
    "                      nn.ReLU(),                    \n",
    "                      nn.Dropout(0.3),\n",
    "                      nn.Linear(128, 64),\n",
    "                      nn.ReLU(),\n",
    "                      nn.Dropout(0.2),\n",
    "                      nn.Linear(64, 10),\n",
    "                      nn.LogSoftmax(dim = 1)\n",
    "                     )\n",
    "\n",
    "\n",
    "\n",
    "criterion = nn.NLLLoss()\n",
    "optimizer = optim.Adam(model.parameters(), lr=2e-3)\n",
    "\n",
    "epochs = 30\n",
    "\n",
    "train_loss = []\n",
    "test_loss = []\n",
    "\n",
    "for e in range(epochs):\n",
    "    running_loss = 0\n",
    "\n",
    "    for images, labels in trainloader:\n",
    "\n",
    "        images = images.view(images.shape[0], -1)\n",
    "\n",
    "        optimizer.zero_grad()\n",
    "\n",
    "        pred = model.forward(images)\n",
    "\n",
    "        loss = criterion(pred, labels)\n",
    "        loss.backward()\n",
    "        optimizer.step()\n",
    "\n",
    "        running_loss += loss.item()\n",
    "        \n",
    "    else:\n",
    "        loss_test = 0\n",
    "        accuracy = 0\n",
    "\n",
    "        with torch.no_grad():\n",
    "\n",
    "            model.eval()\n",
    "\n",
    "            for images, labels in testloader:\n",
    "                images = images.view(images.shape[0], -1)\n",
    "                log_ps = model(images)\n",
    "                loss_test += criterion(log_ps, labels)\n",
    "\n",
    "                ps = torch.exp(log_ps)\n",
    "                top_p, top_class = ps.topk(1, dim=1)\n",
    "                equals = top_class == labels.view(*top_class.shape)\n",
    "                accuracy += torch.mean(equals.type(torch.FloatTensor))\n",
    "\n",
    "    model.train()\n",
    "\n",
    "    train_loss.append(running_loss/len(trainloader))\n",
    "    test_loss.append(loss_test/len(testloader))\n",
    "\n",
    "    print(f'Epoch: {e + 1} | trainloss: {running_loss/len(trainloader)} | test loss: {loss_test/len(testloader)} | accuracy : {accuracy/len(testloader)}' )"
   ]
  },
  {
   "cell_type": "code",
   "execution_count": 5,
   "metadata": {},
   "outputs": [
    {
     "data": {
      "image/png": "[encoded data removed]",
      "text/plain": [
       "<Figure size 432x288 with 1 Axes>"
      ]
     },
     "metadata": {
      "needs_background": "light"
     },
     "output_type": "display_data"
    }
   ],
   "source": [
    "plt.plot(train_loss, label = 'Trainloss')\n",
    "plt.plot(test_loss, label = 'Testloss')\n",
    "plt.plot()\n",
    "plt.legend()\n",
    "plt.show()"
   ]
  },
  {
   "cell_type": "code",
   "execution_count": 6,
   "metadata": {},
   "outputs": [],
   "source": [
    "# Define view_classify function\n",
    "def view_classify(img, ps, version=\"MNIST\"):\n",
    "    ''' Function for viewing an image and it's predicted classes.\n",
    "    '''\n",
    "    ps = ps.data.numpy().squeeze()\n",
    "\n",
    "    fig, (ax1, ax2) = plt.subplots(figsize=(6,9), ncols=2)\n",
    "    ax1.imshow(img.resize_(1, 28, 28).numpy().squeeze())\n",
    "    ax1.axis('off')\n",
    "    ax2.barh(np.arange(10), ps)\n",
    "    ax2.set_aspect(0.1)\n",
    "    ax2.set_yticks(np.arange(10))\n",
    "    if version == \"MNIST\":\n",
    "        ax2.set_yticklabels(np.arange(10))\n",
    "    elif version == \"Fashion\":\n",
    "        ax2.set_yticklabels(['T-shirt/top',\n",
    "                            'Trouser',\n",
    "                            'Pullover',\n",
    "                            'Dress',\n",
    "                            'Coat',\n",
    "                            'Sandal',\n",
    "                            'Shirt',\n",
    "                            'Sneaker',\n",
    "                            'Bag',\n",
    "                            'Ankle Boot'], size='small');\n",
    "    ax2.set_title('Class Probability')\n",
    "    ax2.set_xlim(0, 1.1)\n",
    "\n",
    "    plt.tight_layout()"
   ]
  },
  {
   "cell_type": "code",
   "execution_count": 18,
   "metadata": {},
   "outputs": [
    {
     "data": {
      "image/png": "[encoded data removed]",
      "text/plain": [
       "<Figure size 432x648 with 2 Axes>"
      ]
     },
     "metadata": {
      "image/png": {
       "height": 216,
       "width": 424
      },
      "needs_background": "light"
     },
     "output_type": "display_data"
    }
   ],
   "source": [
    "%matplotlib inline\n",
    "%config InlineBackend.figure_format = 'retina'\n",
    "# Testing out the network\n",
    "dataiter = iter(testloader)\n",
    "images, labels = dataiter.next()\n",
    "img = images[0]\n",
    "\n",
    "# Convert 2D image to 1D vector\n",
    "img = img.resize_(1, 784)\n",
    "\n",
    "# Calculate the class probabilites (log softmax) for img\n",
    "ps = torch.exp(model(img))\n",
    "\n",
    "# Plot the image and probabilites\n",
    "view_classify(img, ps, version='Fashion')"
   ]
  },
  {
   "cell_type": "code",
   "execution_count": 8,
   "metadata": {},
   "outputs": [
    {
     "name": "stdout",
     "output_type": "stream",
     "text": [
      "My model: \n",
      "\n",
      " Sequential(\n",
      "  (0): Linear(in_features=784, out_features=256, bias=True)\n",
      "  (1): ReLU()\n",
      "  (2): Dropout(p=0.4, inplace=False)\n",
      "  (3): Linear(in_features=256, out_features=128, bias=True)\n",
      "  (4): ReLU()\n",
      "  (5): Dropout(p=0.3, inplace=False)\n",
      "  (6): Linear(in_features=128, out_features=64, bias=True)\n",
      "  (7): ReLU()\n",
      "  (8): Dropout(p=0.2, inplace=False)\n",
      "  (9): Linear(in_features=64, out_features=10, bias=True)\n",
      "  (10): LogSoftmax(dim=1)\n",
      ") \n",
      "\n",
      "The state dict keys: \n",
      "\n",
      " odict_keys(['0.weight', '0.bias', '3.weight', '3.bias', '6.weight', '6.bias', '9.weight', '9.bias'])\n"
     ]
    }
   ],
   "source": [
    "print(\"My model: \\n\\n\", model, \"\\n\")\n",
    "print(\"The state dict keys: \\n\\n\", model.state_dict().keys())"
   ]
  },
  {
   "cell_type": "code",
   "execution_count": 9,
   "metadata": {},
   "outputs": [],
   "source": [
    "torch.save(model.state_dict(), 'checkpoint.pth')"
   ]
  },
  {
   "cell_type": "code",
   "execution_count": 10,
   "metadata": {},
   "outputs": [
    {
     "name": "stdout",
     "output_type": "stream",
     "text": [
      "odict_keys(['0.weight', '0.bias', '3.weight', '3.bias', '6.weight', '6.bias', '9.weight', '9.bias'])\n"
     ]
    }
   ],
   "source": [
    "state_dict = torch.load(\"checkpoint.pth\")\n",
    "print(state_dict.keys())"
   ]
  },
  {
   "cell_type": "code",
   "execution_count": 11,
   "metadata": {},
   "outputs": [
    {
     "name": "stdout",
     "output_type": "stream",
     "text": [
      "Sequential(\n",
      "  (0): Linear(in_features=784, out_features=256, bias=True)\n",
      "  (1): ReLU()\n",
      "  (2): Dropout(p=0.4, inplace=False)\n",
      "  (3): Linear(in_features=256, out_features=128, bias=True)\n",
      "  (4): ReLU()\n",
      "  (5): Dropout(p=0.3, inplace=False)\n",
      "  (6): Linear(in_features=128, out_features=64, bias=True)\n",
      "  (7): ReLU()\n",
      "  (8): Dropout(p=0.2, inplace=False)\n",
      "  (9): Linear(in_features=64, out_features=10, bias=True)\n",
      "  (10): LogSoftmax(dim=1)\n",
      ")\n"
     ]
    }
   ],
   "source": [
    "# Load the state dict to the network\n",
    "model.load_state_dict(state_dict)\n",
    "print(model)"
   ]
  }
 ],
 "metadata": {
  "interpreter": {
   "hash": "8e98eea00a698c66ff9007bd5a8bf6209cdaa78d416205c57d24ef9296d8223a"
  },
  "kernelspec": {
   "display_name": "Python 3.7.11 ('strive')",
   "language": "python",
   "name": "python3"
  },
  "language_info": {
   "codemirror_mode": {
    "name": "ipython",
    "version": 3
   },
   "file_extension": ".py",
   "mimetype": "text/x-python",
   "name": "python",
   "nbconvert_exporter": "python",
   "pygments_lexer": "ipython3",
   "version": "3.7.11"
  },
  "orig_nbformat": 4
 },
 "nbformat": 4,
 "nbformat_minor": 2
}
